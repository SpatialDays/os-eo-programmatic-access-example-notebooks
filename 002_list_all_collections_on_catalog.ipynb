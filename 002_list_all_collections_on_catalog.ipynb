{
 "cells": [
  {
   "cell_type": "code",
   "execution_count": 8,
   "id": "f3c65709-6479-4771-be41-ac35cc78c8ac",
   "metadata": {},
   "outputs": [
    {
     "name": "stdout",
     "output_type": "stream",
     "text": [
      "Requirement already satisfied: pystac in ./env/lib/python3.10/site-packages (1.8.3)\n",
      "Requirement already satisfied: python-dateutil>=2.7.0 in ./env/lib/python3.10/site-packages (from pystac) (2.8.2)\n",
      "Requirement already satisfied: six>=1.5 in ./env/lib/python3.10/site-packages (from python-dateutil>=2.7.0->pystac) (1.16.0)\n",
      "Requirement already satisfied: pystac-client in ./env/lib/python3.10/site-packages (0.7.5)\n",
      "Requirement already satisfied: requests>=2.28.2 in ./env/lib/python3.10/site-packages (from pystac-client) (2.31.0)\n",
      "Requirement already satisfied: python-dateutil>=2.8.2 in ./env/lib/python3.10/site-packages (from pystac-client) (2.8.2)\n",
      "Requirement already satisfied: pystac[validation]>=1.8.2 in ./env/lib/python3.10/site-packages (from pystac-client) (1.8.3)\n",
      "Requirement already satisfied: jsonschema<4.18,>=4.0.1 in ./env/lib/python3.10/site-packages (from pystac[validation]>=1.8.2->pystac-client) (4.17.3)\n",
      "Requirement already satisfied: six>=1.5 in ./env/lib/python3.10/site-packages (from python-dateutil>=2.8.2->pystac-client) (1.16.0)\n",
      "Requirement already satisfied: certifi>=2017.4.17 in ./env/lib/python3.10/site-packages (from requests>=2.28.2->pystac-client) (2023.7.22)\n",
      "Requirement already satisfied: idna<4,>=2.5 in ./env/lib/python3.10/site-packages (from requests>=2.28.2->pystac-client) (3.4)\n",
      "Requirement already satisfied: charset-normalizer<4,>=2 in ./env/lib/python3.10/site-packages (from requests>=2.28.2->pystac-client) (3.2.0)\n",
      "Requirement already satisfied: urllib3<3,>=1.21.1 in ./env/lib/python3.10/site-packages (from requests>=2.28.2->pystac-client) (2.0.4)\n",
      "Requirement already satisfied: pyrsistent!=0.17.0,!=0.17.1,!=0.17.2,>=0.14.0 in ./env/lib/python3.10/site-packages (from jsonschema<4.18,>=4.0.1->pystac[validation]>=1.8.2->pystac-client) (0.19.3)\n",
      "Requirement already satisfied: attrs>=17.4.0 in ./env/lib/python3.10/site-packages (from jsonschema<4.18,>=4.0.1->pystac[validation]>=1.8.2->pystac-client) (23.1.0)\n"
     ]
    }
   ],
   "source": [
    "!pip install pystac\n",
    "!pip install pystac-client"
   ]
  },
  {
   "cell_type": "code",
   "execution_count": 9,
   "id": "3d12f0e0-d30c-40a1-97a5-ee89d0edea18",
   "metadata": {},
   "outputs": [],
   "source": [
    "# Import PySTAC to use it in the notebook\n",
    "import pystac\n",
    "import pystac_client"
   ]
  },
  {
   "cell_type": "code",
   "execution_count": 10,
   "id": "d83db49e",
   "metadata": {},
   "outputs": [],
   "source": [
    "# Credentials and details for Azure APIM\n",
    "APIM_STAC_URL = \"https://os-eo-platform-rg-prod-apim.azure-api.net/stac/\"\n",
    "APIM_AUTH_TOKEN = \"d208843ea70a43d29416315322dc3228\"\n",
    "# Create AUTH Header object\n",
    "auth_headers = {\"ocp-apim-subscription-key\": APIM_AUTH_TOKEN}"
   ]
  },
  {
   "cell_type": "code",
   "execution_count": 11,
   "id": "3fc211e8-dbff-441a-9d2c-43412c55e540",
   "metadata": {},
   "outputs": [],
   "source": [
    "# Create Pystac client object\n",
    "client: pystac_client.client.Client = pystac_client.Client.from_file(\n",
    "    APIM_STAC_URL, headers=auth_headers\n",
    ")"
   ]
  },
  {
   "cell_type": "code",
   "execution_count": 12,
   "id": "5ffba455",
   "metadata": {},
   "outputs": [
    {
     "name": "stdout",
     "output_type": "stream",
     "text": [
      "Number of collections: 6\n",
      "landsat-c2-l2\n",
      "os_heightstore_dtm1m\n",
      "sentinel-2-l2a\n",
      "os_heightstore_dsm25cm\n",
      "os_heightstore_dsm1m\n",
      "os_rgbi\n"
     ]
    }
   ],
   "source": [
    "from typing import List\n",
    "\n",
    "collections: List[pystac.Collection] = list(client.get_collections())\n",
    "\n",
    "# Print the number of collections\n",
    "print(f\"Number of collections: {len(collections)}\")\n",
    "for collection in collections:\n",
    "    print(collection.id)"
   ]
  },
  {
   "cell_type": "code",
   "execution_count": 13,
   "id": "61b0f22f",
   "metadata": {},
   "outputs": [
    {
     "name": "stdout",
     "output_type": "stream",
     "text": [
      "DEFAULT_FILE_NAME\n",
      "STAC_OBJECT_TYPE\n",
      "add_asset\n",
      "add_child\n",
      "add_children\n",
      "add_item\n",
      "add_items\n",
      "add_link\n",
      "add_links\n",
      "assets\n",
      "catalog_type\n",
      "clear_children\n",
      "clear_items\n",
      "clear_links\n",
      "clone\n",
      "conforms_to\n",
      "delete_asset\n",
      "describe\n",
      "description\n",
      "extent\n",
      "extra_fields\n",
      "from_dict\n",
      "from_file\n",
      "full_copy\n",
      "fully_resolve\n",
      "generate_subcatalogs\n",
      "get_all_collections\n",
      "get_all_items\n",
      "get_assets\n",
      "get_child\n",
      "get_child_links\n",
      "get_children\n",
      "get_collections\n",
      "get_item\n",
      "get_item_links\n",
      "get_items\n",
      "get_links\n",
      "get_parent\n",
      "get_queryables\n",
      "get_queryables_from\n",
      "get_root\n",
      "get_root_link\n",
      "get_self_href\n",
      "get_single_link\n",
      "get_stac_objects\n",
      "id\n",
      "is_relative\n",
      "keywords\n",
      "license\n",
      "links\n",
      "make_all_asset_hrefs_absolute\n",
      "make_all_asset_hrefs_relative\n",
      "make_asset_hrefs_absolute\n",
      "make_asset_hrefs_relative\n",
      "map_assets\n",
      "map_items\n",
      "matches_object_type\n",
      "modifier\n",
      "normalize_and_save\n",
      "normalize_hrefs\n",
      "providers\n",
      "remove_child\n",
      "remove_hierarchical_links\n",
      "remove_item\n",
      "remove_links\n",
      "resolve_links\n",
      "save\n",
      "save_object\n",
      "self_href\n",
      "set_parent\n",
      "set_root\n",
      "set_self_href\n",
      "stac_extensions\n",
      "summaries\n",
      "target_in_hierarchy\n",
      "title\n",
      "to_dict\n",
      "update_extent_from_items\n",
      "validate\n",
      "validate_all\n",
      "walk\n"
     ]
    }
   ],
   "source": [
    "# print all available attributes of the first collection\n",
    "for i in dir(collections[0]):\n",
    "    if not i.startswith(\"_\"):\n",
    "        print(i)"
   ]
  }
 ],
 "metadata": {
  "kernelspec": {
   "display_name": "Python 3 (ipykernel)",
   "language": "python",
   "name": "python3"
  },
  "language_info": {
   "codemirror_mode": {
    "name": "ipython",
    "version": 3
   },
   "file_extension": ".py",
   "mimetype": "text/x-python",
   "name": "python",
   "nbconvert_exporter": "python",
   "pygments_lexer": "ipython3",
   "version": "3.10.12"
  }
 },
 "nbformat": 4,
 "nbformat_minor": 5
}
