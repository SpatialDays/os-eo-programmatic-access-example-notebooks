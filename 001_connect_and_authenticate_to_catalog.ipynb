{
 "cells": [
  {
   "cell_type": "code",
   "execution_count": 6,
   "id": "f3c65709-6479-4771-be41-ac35cc78c8ac",
   "metadata": {},
   "outputs": [
    {
     "name": "stdout",
     "output_type": "stream",
     "text": [
      "Requirement already satisfied: pystac in ./env/lib/python3.10/site-packages (1.8.3)\n",
      "Requirement already satisfied: python-dateutil>=2.7.0 in ./env/lib/python3.10/site-packages (from pystac) (2.8.2)\n",
      "Requirement already satisfied: six>=1.5 in ./env/lib/python3.10/site-packages (from python-dateutil>=2.7.0->pystac) (1.16.0)\n",
      "Requirement already satisfied: pystac-client in ./env/lib/python3.10/site-packages (0.7.5)\n",
      "Requirement already satisfied: requests>=2.28.2 in ./env/lib/python3.10/site-packages (from pystac-client) (2.31.0)\n",
      "Requirement already satisfied: pystac[validation]>=1.8.2 in ./env/lib/python3.10/site-packages (from pystac-client) (1.8.3)\n",
      "Requirement already satisfied: python-dateutil>=2.8.2 in ./env/lib/python3.10/site-packages (from pystac-client) (2.8.2)\n",
      "Requirement already satisfied: jsonschema<4.18,>=4.0.1 in ./env/lib/python3.10/site-packages (from pystac[validation]>=1.8.2->pystac-client) (4.17.3)\n",
      "Requirement already satisfied: six>=1.5 in ./env/lib/python3.10/site-packages (from python-dateutil>=2.8.2->pystac-client) (1.16.0)\n",
      "Requirement already satisfied: idna<4,>=2.5 in ./env/lib/python3.10/site-packages (from requests>=2.28.2->pystac-client) (3.4)\n",
      "Requirement already satisfied: charset-normalizer<4,>=2 in ./env/lib/python3.10/site-packages (from requests>=2.28.2->pystac-client) (3.2.0)\n",
      "Requirement already satisfied: certifi>=2017.4.17 in ./env/lib/python3.10/site-packages (from requests>=2.28.2->pystac-client) (2023.7.22)\n",
      "Requirement already satisfied: urllib3<3,>=1.21.1 in ./env/lib/python3.10/site-packages (from requests>=2.28.2->pystac-client) (2.0.4)\n",
      "Requirement already satisfied: pyrsistent!=0.17.0,!=0.17.1,!=0.17.2,>=0.14.0 in ./env/lib/python3.10/site-packages (from jsonschema<4.18,>=4.0.1->pystac[validation]>=1.8.2->pystac-client) (0.19.3)\n",
      "Requirement already satisfied: attrs>=17.4.0 in ./env/lib/python3.10/site-packages (from jsonschema<4.18,>=4.0.1->pystac[validation]>=1.8.2->pystac-client) (23.1.0)\n"
     ]
    }
   ],
   "source": [
    "!pip install pystac\n",
    "!pip install pystac-client"
   ]
  },
  {
   "cell_type": "code",
   "execution_count": 7,
   "id": "3d12f0e0-d30c-40a1-97a5-ee89d0edea18",
   "metadata": {},
   "outputs": [],
   "source": [
    "# Import PySTAC to use it in the notebook\n",
    "import pystac\n",
    "import pystac_client"
   ]
  },
  {
   "cell_type": "code",
   "execution_count": 8,
   "id": "8b780e81-d9f4-49bb-915b-2e5cd3a4e1c6",
   "metadata": {},
   "outputs": [],
   "source": [
    "# Credentials and details for Azure APIM\n",
    "APIM_STAC_URL = \"https://os-eo-platform-rg-prod-apim.azure-api.net/stac/\"\n",
    "APIM_AUTH_TOKEN = \"d208843ea70a43d29416315322dc3228\"\n",
    "# Create AUTH Header object\n",
    "auth_headers = {\"ocp-apim-subscription-key\": APIM_AUTH_TOKEN}"
   ]
  },
  {
   "cell_type": "code",
   "execution_count": 12,
   "id": "3fc211e8-dbff-441a-9d2c-43412c55e540",
   "metadata": {},
   "outputs": [
    {
     "name": "stdout",
     "output_type": "stream",
     "text": [
      "<class 'pystac_client.client.Client'>\n"
     ]
    }
   ],
   "source": [
    "# Create Pystac client object\n",
    "client: pystac_client.client.Client = pystac_client.Client.from_file(\n",
    "    APIM_STAC_URL, headers=auth_headers\n",
    ")"
   ]
  }
 ],
 "metadata": {
  "kernelspec": {
   "display_name": "Python 3 (ipykernel)",
   "language": "python",
   "name": "python3"
  },
  "language_info": {
   "codemirror_mode": {
    "name": "ipython",
    "version": 3
   },
   "file_extension": ".py",
   "mimetype": "text/x-python",
   "name": "python",
   "nbconvert_exporter": "python",
   "pygments_lexer": "ipython3",
   "version": "3.10.12"
  }
 },
 "nbformat": 4,
 "nbformat_minor": 5
}
